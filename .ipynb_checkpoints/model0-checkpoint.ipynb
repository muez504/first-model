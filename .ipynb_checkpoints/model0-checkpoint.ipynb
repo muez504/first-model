{
 "cells": [
  {
   "cell_type": "code",
   "execution_count": 9,
   "id": "be3051e5",
   "metadata": {},
   "outputs": [],
   "source": [
    "import numpy as np# Importing every library we need"
   ]
  },
  {
   "cell_type": "code",
   "execution_count": 10,
   "id": "b4fca2ce",
   "metadata": {},
   "outputs": [],
   "source": [
    "import seaborn as sns"
   ]
  },
  {
   "cell_type": "code",
   "execution_count": 11,
   "id": "eada970b",
   "metadata": {},
   "outputs": [],
   "source": [
    "import pandas as pd"
   ]
  },
  {
   "cell_type": "code",
   "execution_count": 12,
   "id": "f1b2e0fa",
   "metadata": {},
   "outputs": [],
   "source": [
    "df = pd.read_csv(\"data0.csv\")"
   ]
  },
  {
   "cell_type": "code",
   "execution_count": 13,
   "id": "84b05b14",
   "metadata": {},
   "outputs": [
    {
     "data": {
      "text/html": [
       "<div>\n",
       "<style scoped>\n",
       "    .dataframe tbody tr th:only-of-type {\n",
       "        vertical-align: middle;\n",
       "    }\n",
       "\n",
       "    .dataframe tbody tr th {\n",
       "        vertical-align: top;\n",
       "    }\n",
       "\n",
       "    .dataframe thead th {\n",
       "        text-align: right;\n",
       "    }\n",
       "</style>\n",
       "<table border=\"1\" class=\"dataframe\">\n",
       "  <thead>\n",
       "    <tr style=\"text-align: right;\">\n",
       "      <th></th>\n",
       "      <th>Market Place</th>\n",
       "      <th>Crop Variety</th>\n",
       "      <th>Producer Min</th>\n",
       "      <th>Producer Max</th>\n",
       "      <th>Wholesale Min</th>\n",
       "      <th>Wholesale Max</th>\n",
       "      <th>Retail Min</th>\n",
       "      <th>Retail Max</th>\n",
       "      <th>Volume</th>\n",
       "      <th>Collection Date</th>\n",
       "    </tr>\n",
       "  </thead>\n",
       "  <tbody>\n",
       "    <tr>\n",
       "      <th>0</th>\n",
       "      <td>Bahir Dar kebele 04</td>\n",
       "      <td>White Teff (Quintal)</td>\n",
       "      <td>0.0</td>\n",
       "      <td>0.0</td>\n",
       "      <td>2400</td>\n",
       "      <td>2500</td>\n",
       "      <td>2550.0</td>\n",
       "      <td>2650</td>\n",
       "      <td>Sufficient</td>\n",
       "      <td>5/2/2019</td>\n",
       "    </tr>\n",
       "    <tr>\n",
       "      <th>1</th>\n",
       "      <td>Halaba</td>\n",
       "      <td>White Teff (Quintal)</td>\n",
       "      <td>2450.0</td>\n",
       "      <td>2500.0</td>\n",
       "      <td>2600</td>\n",
       "      <td>2700</td>\n",
       "      <td>2800.0</td>\n",
       "      <td>2900</td>\n",
       "      <td>Under</td>\n",
       "      <td>5/2/2019</td>\n",
       "    </tr>\n",
       "    <tr>\n",
       "      <th>2</th>\n",
       "      <td>Debre Markos Huseta Gebeya</td>\n",
       "      <td>White Teff (Quintal)</td>\n",
       "      <td>2450.0</td>\n",
       "      <td>2500.0</td>\n",
       "      <td>0</td>\n",
       "      <td>0</td>\n",
       "      <td>2500.0</td>\n",
       "      <td>2550</td>\n",
       "      <td>Sufficient</td>\n",
       "      <td>5/4/2019</td>\n",
       "    </tr>\n",
       "    <tr>\n",
       "      <th>3</th>\n",
       "      <td>Bichena Gebeya</td>\n",
       "      <td>White Teff (Quintal)</td>\n",
       "      <td>2450.0</td>\n",
       "      <td>2500.0</td>\n",
       "      <td>0</td>\n",
       "      <td>0</td>\n",
       "      <td>2500.0</td>\n",
       "      <td>2550</td>\n",
       "      <td>Sufficient</td>\n",
       "      <td>5/4/2019</td>\n",
       "    </tr>\n",
       "    <tr>\n",
       "      <th>4</th>\n",
       "      <td>Shindie Gebeya</td>\n",
       "      <td>White Teff (Quintal)</td>\n",
       "      <td>2250.0</td>\n",
       "      <td>2300.0</td>\n",
       "      <td>0</td>\n",
       "      <td>0</td>\n",
       "      <td>2350.0</td>\n",
       "      <td>2400</td>\n",
       "      <td>Sufficient</td>\n",
       "      <td>5/4/2019</td>\n",
       "    </tr>\n",
       "  </tbody>\n",
       "</table>\n",
       "</div>"
      ],
      "text/plain": [
       "                 Market Place          Crop Variety  Producer Min  \\\n",
       "0         Bahir Dar kebele 04  White Teff (Quintal)           0.0   \n",
       "1                      Halaba  White Teff (Quintal)        2450.0   \n",
       "2  Debre Markos Huseta Gebeya  White Teff (Quintal)        2450.0   \n",
       "3              Bichena Gebeya  White Teff (Quintal)        2450.0   \n",
       "4              Shindie Gebeya  White Teff (Quintal)        2250.0   \n",
       "\n",
       "   Producer Max  Wholesale Min  Wholesale Max  Retail Min  Retail Max  \\\n",
       "0           0.0           2400           2500      2550.0        2650   \n",
       "1        2500.0           2600           2700      2800.0        2900   \n",
       "2        2500.0              0              0      2500.0        2550   \n",
       "3        2500.0              0              0      2500.0        2550   \n",
       "4        2300.0              0              0      2350.0        2400   \n",
       "\n",
       "       Volume Collection Date  \n",
       "0  Sufficient        5/2/2019  \n",
       "1       Under        5/2/2019  \n",
       "2  Sufficient        5/4/2019  \n",
       "3  Sufficient        5/4/2019  \n",
       "4  Sufficient        5/4/2019  "
      ]
     },
     "execution_count": 13,
     "metadata": {},
     "output_type": "execute_result"
    }
   ],
   "source": [
    "df.head()"
   ]
  },
  {
   "cell_type": "code",
   "execution_count": 14,
   "id": "f6d2ff1a",
   "metadata": {},
   "outputs": [
    {
     "name": "stdout",
     "output_type": "stream",
     "text": [
      "<class 'pandas.core.frame.DataFrame'>\n",
      "RangeIndex: 23006 entries, 0 to 23005\n",
      "Data columns (total 10 columns):\n",
      " #   Column           Non-Null Count  Dtype  \n",
      "---  ------           --------------  -----  \n",
      " 0   Market Place     23006 non-null  object \n",
      " 1   Crop Variety     23006 non-null  object \n",
      " 2   Producer Min     23006 non-null  float64\n",
      " 3   Producer Max     23006 non-null  float64\n",
      " 4   Wholesale Min    23006 non-null  int64  \n",
      " 5   Wholesale Max    23006 non-null  int64  \n",
      " 6   Retail Min       23006 non-null  float64\n",
      " 7   Retail Max       23006 non-null  int64  \n",
      " 8   Volume           23006 non-null  object \n",
      " 9   Collection Date  23006 non-null  object \n",
      "dtypes: float64(3), int64(3), object(4)\n",
      "memory usage: 1.8+ MB\n"
     ]
    }
   ],
   "source": [
    "df.info()"
   ]
  },
  {
   "cell_type": "code",
   "execution_count": 15,
   "id": "9c9cdd80",
   "metadata": {},
   "outputs": [],
   "source": [
    "df.dropna(inplace = True)"
   ]
  },
  {
   "cell_type": "code",
   "execution_count": 16,
   "id": "299be6f6",
   "metadata": {
    "scrolled": true
   },
   "outputs": [
    {
     "data": {
      "text/plain": [
       "Market Place       0\n",
       "Crop Variety       0\n",
       "Producer Min       0\n",
       "Producer Max       0\n",
       "Wholesale Min      0\n",
       "Wholesale Max      0\n",
       "Retail Min         0\n",
       "Retail Max         0\n",
       "Volume             0\n",
       "Collection Date    0\n",
       "dtype: int64"
      ]
     },
     "execution_count": 16,
     "metadata": {},
     "output_type": "execute_result"
    }
   ],
   "source": [
    "df.isnull().sum()"
   ]
  },
  {
   "cell_type": "code",
   "execution_count": 17,
   "id": "6ce41830",
   "metadata": {},
   "outputs": [],
   "source": [
    "data2=df.copy()"
   ]
  },
  {
   "cell_type": "code",
   "execution_count": 18,
   "id": "79cb49b8",
   "metadata": {},
   "outputs": [],
   "source": [
    "data2 = data2.dropna()"
   ]
  },
  {
   "cell_type": "code",
   "execution_count": 19,
   "id": "36b79911",
   "metadata": {},
   "outputs": [
    {
     "data": {
      "text/plain": [
       "Market Place       0\n",
       "Crop Variety       0\n",
       "Producer Min       0\n",
       "Producer Max       0\n",
       "Wholesale Min      0\n",
       "Wholesale Max      0\n",
       "Retail Min         0\n",
       "Retail Max         0\n",
       "Volume             0\n",
       "Collection Date    0\n",
       "dtype: int64"
      ]
     },
     "execution_count": 19,
     "metadata": {},
     "output_type": "execute_result"
    }
   ],
   "source": [
    "data2.isnull().sum()"
   ]
  },
  {
   "cell_type": "code",
   "execution_count": 20,
   "id": "e4a73027",
   "metadata": {},
   "outputs": [],
   "source": [
    "data2 = data2.drop(columns='Retail Min')# multiple in one (['f','h])"
   ]
  },
  {
   "cell_type": "code",
   "execution_count": 21,
   "id": "39c5ed19",
   "metadata": {},
   "outputs": [],
   "source": [
    "data2 = data2.drop(columns='Wholesale Max')"
   ]
  },
  {
   "cell_type": "code",
   "execution_count": 22,
   "id": "54044232",
   "metadata": {},
   "outputs": [],
   "source": [
    "data2 = data2.drop(columns='Wholesale Min')"
   ]
  },
  {
   "cell_type": "code",
   "execution_count": 23,
   "id": "0174adc4",
   "metadata": {},
   "outputs": [],
   "source": [
    "data2 = data2.drop(columns='Producer Max')"
   ]
  },
  {
   "cell_type": "code",
   "execution_count": 24,
   "id": "ab37918a",
   "metadata": {},
   "outputs": [],
   "source": [
    "data2 = data2.drop(columns='Producer Min')"
   ]
  },
  {
   "cell_type": "code",
   "execution_count": 25,
   "id": "3a0f4148",
   "metadata": {
    "scrolled": true
   },
   "outputs": [
    {
     "data": {
      "text/html": [
       "<div>\n",
       "<style scoped>\n",
       "    .dataframe tbody tr th:only-of-type {\n",
       "        vertical-align: middle;\n",
       "    }\n",
       "\n",
       "    .dataframe tbody tr th {\n",
       "        vertical-align: top;\n",
       "    }\n",
       "\n",
       "    .dataframe thead th {\n",
       "        text-align: right;\n",
       "    }\n",
       "</style>\n",
       "<table border=\"1\" class=\"dataframe\">\n",
       "  <thead>\n",
       "    <tr style=\"text-align: right;\">\n",
       "      <th></th>\n",
       "      <th>Market Place</th>\n",
       "      <th>Crop Variety</th>\n",
       "      <th>Retail Max</th>\n",
       "      <th>Volume</th>\n",
       "      <th>Collection Date</th>\n",
       "    </tr>\n",
       "  </thead>\n",
       "  <tbody>\n",
       "    <tr>\n",
       "      <th>0</th>\n",
       "      <td>Bahir Dar kebele 04</td>\n",
       "      <td>White Teff (Quintal)</td>\n",
       "      <td>2650</td>\n",
       "      <td>Sufficient</td>\n",
       "      <td>5/2/2019</td>\n",
       "    </tr>\n",
       "    <tr>\n",
       "      <th>1</th>\n",
       "      <td>Halaba</td>\n",
       "      <td>White Teff (Quintal)</td>\n",
       "      <td>2900</td>\n",
       "      <td>Under</td>\n",
       "      <td>5/2/2019</td>\n",
       "    </tr>\n",
       "    <tr>\n",
       "      <th>2</th>\n",
       "      <td>Debre Markos Huseta Gebeya</td>\n",
       "      <td>White Teff (Quintal)</td>\n",
       "      <td>2550</td>\n",
       "      <td>Sufficient</td>\n",
       "      <td>5/4/2019</td>\n",
       "    </tr>\n",
       "    <tr>\n",
       "      <th>3</th>\n",
       "      <td>Bichena Gebeya</td>\n",
       "      <td>White Teff (Quintal)</td>\n",
       "      <td>2550</td>\n",
       "      <td>Sufficient</td>\n",
       "      <td>5/4/2019</td>\n",
       "    </tr>\n",
       "    <tr>\n",
       "      <th>4</th>\n",
       "      <td>Shindie Gebeya</td>\n",
       "      <td>White Teff (Quintal)</td>\n",
       "      <td>2400</td>\n",
       "      <td>Sufficient</td>\n",
       "      <td>5/4/2019</td>\n",
       "    </tr>\n",
       "  </tbody>\n",
       "</table>\n",
       "</div>"
      ],
      "text/plain": [
       "                 Market Place          Crop Variety  Retail Max      Volume  \\\n",
       "0         Bahir Dar kebele 04  White Teff (Quintal)        2650  Sufficient   \n",
       "1                      Halaba  White Teff (Quintal)        2900       Under   \n",
       "2  Debre Markos Huseta Gebeya  White Teff (Quintal)        2550  Sufficient   \n",
       "3              Bichena Gebeya  White Teff (Quintal)        2550  Sufficient   \n",
       "4              Shindie Gebeya  White Teff (Quintal)        2400  Sufficient   \n",
       "\n",
       "  Collection Date  \n",
       "0        5/2/2019  \n",
       "1        5/2/2019  \n",
       "2        5/4/2019  \n",
       "3        5/4/2019  \n",
       "4        5/4/2019  "
      ]
     },
     "execution_count": 25,
     "metadata": {},
     "output_type": "execute_result"
    }
   ],
   "source": [
    "data2.head()"
   ]
  },
  {
   "cell_type": "code",
   "execution_count": 26,
   "id": "97eee18b",
   "metadata": {},
   "outputs": [
    {
     "data": {
      "text/plain": [
       "'5/4/2019'"
      ]
     },
     "execution_count": 26,
     "metadata": {},
     "output_type": "execute_result"
    }
   ],
   "source": [
    "data2[\"Collection Date\"][4]"
   ]
  },
  {
   "cell_type": "code",
   "execution_count": 27,
   "id": "ffe46332",
   "metadata": {},
   "outputs": [
    {
     "data": {
      "text/plain": [
       "1/28/2023     81\n",
       "2/4/2023      79\n",
       "2/18/2023     75\n",
       "1/14/2023     75\n",
       "12/24/2022    72\n",
       "              ..\n",
       "9/11/2022      1\n",
       "1/16/2022      1\n",
       "10/4/2020      1\n",
       "1/22/2023      1\n",
       "8/9/2019       1\n",
       "Name: Collection Date, Length: 1360, dtype: int64"
      ]
     },
     "execution_count": 27,
     "metadata": {},
     "output_type": "execute_result"
    }
   ],
   "source": [
    "data2[\"Collection Date\"].value_counts()"
   ]
  },
  {
   "cell_type": "code",
   "execution_count": null,
   "id": "a634e35b",
   "metadata": {},
   "outputs": [],
   "source": [
    "str = data2[\"Collection Date\"][1]#taking any arbitrary data spliting it by calling split methode\n",
    "str2 = str.split()#spliting it to 5,/,1,/,2019   thus str[6] out of range \n",
    "print(str)\n",
    "print(str2)\n",
    "print(str[0])"
   ]
  },
  {
   "cell_type": "code",
   "execution_count": null,
   "id": "d3e98be0",
   "metadata": {},
   "outputs": [],
   "source": [
    "#creating dictionary to store the months in\n",
    "Dict = {1 :\"January\", 2:\"February\", 3:\"March\", 4:\"April\", 5:\"May\", 6:\"June\", 7:\"July\", 8:\"August\", 9:\"September\", 10:\"October\", 11:\"November\", 12:\"December\"}\n",
    "print(Dict)"
   ]
  },
  {
   "cell_type": "code",
   "execution_count": null,
   "id": "be5ec84d",
   "metadata": {},
   "outputs": [],
   "source": [
    "Dict[3]"
   ]
  },
  {
   "cell_type": "code",
   "execution_count": null,
   "id": "090f23ab",
   "metadata": {},
   "outputs": [],
   "source": [
    "month = []#creating empty column"
   ]
  },
  {
   "cell_type": "code",
   "execution_count": null,
   "id": "7650e68b",
   "metadata": {},
   "outputs": [],
   "source": [
    "for rr in data2[\"Collection Date\"]:\n",
    "    str = rr\n",
    "    str2 = str.split('/')\n",
    "    month.append(Dict[int(str2[0])])#taking the first term, (month) from the splited"
   ]
  },
  {
   "cell_type": "code",
   "execution_count": null,
   "id": "93a964c6",
   "metadata": {},
   "outputs": [],
   "source": [
    "len(month)"
   ]
  },
  {
   "cell_type": "code",
   "execution_count": null,
   "id": "f20563ca",
   "metadata": {},
   "outputs": [],
   "source": [
    "data2[\"month\"] = month"
   ]
  },
  {
   "cell_type": "code",
   "execution_count": null,
   "id": "bd9c4380",
   "metadata": {},
   "outputs": [],
   "source": [
    "data2[\"month\"]"
   ]
  },
  {
   "cell_type": "code",
   "execution_count": null,
   "id": "b5fff09e",
   "metadata": {},
   "outputs": [],
   "source": [
    "data2[\"month\"].unique()"
   ]
  },
  {
   "cell_type": "code",
   "execution_count": null,
   "id": "f1c0be59",
   "metadata": {},
   "outputs": [],
   "source": [
    "season =[]#creating empty column of season"
   ]
  },
  {
   "cell_type": "code",
   "execution_count": null,
   "id": "f1fb6a5f",
   "metadata": {},
   "outputs": [],
   "source": [
    "for tt in data2[\"month\"]:\n",
    "    if tt== \"December\" or tt==\"January\" or tt==\"February\":\n",
    "        season.append(\"Winter\")\n",
    "    elif tt==\"March\" or tt==\"April\" or tt== \"May\":\n",
    "            season.append(\"Autumn\")\n",
    "    elif tt==\"June\" or tt==\"July\" or tt == \"August\":\n",
    "            season.append(\"Summer\")\n",
    "    elif tt==\"September\" or tt==\"October\" or tt== \"November\":\n",
    "            season.append(\"Spring\")"
   ]
  },
  {
   "cell_type": "code",
   "execution_count": null,
   "id": "b0faf28c",
   "metadata": {},
   "outputs": [],
   "source": [
    "len(season)"
   ]
  },
  {
   "cell_type": "code",
   "execution_count": null,
   "id": "fad48cd7",
   "metadata": {},
   "outputs": [],
   "source": [
    "data2[\"season\"] = season"
   ]
  },
  {
   "cell_type": "code",
   "execution_count": null,
   "id": "bb4aa69b",
   "metadata": {},
   "outputs": [],
   "source": [
    "data2[\"season\"]"
   ]
  },
  {
   "cell_type": "code",
   "execution_count": null,
   "id": "a5794291",
   "metadata": {},
   "outputs": [],
   "source": [
    "import pandas as pd \n",
    "df = pd.Timestamp(\"5/3/2023\")\n",
    "print(df.dayofweek)# will give each day like 0 = monday, 1=tuesday...."
   ]
  },
  {
   "cell_type": "code",
   "execution_count": null,
   "id": "c9fcb674",
   "metadata": {},
   "outputs": [],
   "source": [
    "day_of_week = []"
   ]
  },
  {
   "cell_type": "code",
   "execution_count": null,
   "id": "c72dc9e4",
   "metadata": {},
   "outputs": [],
   "source": [
    "for rr in data2[\"Collection Date\"]:#finding out value of each date and craating day column\n",
    "    str = rr\n",
    "    df = pd.Timestamp(rr)\n",
    "    day = df.dayofweek\n",
    "    day_of_week.append(day)"
   ]
  },
  {
   "cell_type": "code",
   "execution_count": null,
   "id": "fe4744e8",
   "metadata": {},
   "outputs": [],
   "source": [
    "len(day_of_week)"
   ]
  },
  {
   "cell_type": "code",
   "execution_count": null,
   "id": "93e9332a",
   "metadata": {},
   "outputs": [],
   "source": [
    "data2[\"day\"]=day_of_week # putting the created day column to the data"
   ]
  },
  {
   "cell_type": "code",
   "execution_count": null,
   "id": "915d5564",
   "metadata": {
    "scrolled": true
   },
   "outputs": [],
   "source": [
    "data2.head()"
   ]
  },
  {
   "cell_type": "code",
   "execution_count": null,
   "id": "fdba039d",
   "metadata": {},
   "outputs": [],
   "source": [
    "data1 = data2.copy()"
   ]
  },
  {
   "cell_type": "code",
   "execution_count": null,
   "id": "d96cb416",
   "metadata": {},
   "outputs": [],
   "source": [
    "data2 = data2.drop(columns='Collection Date') #delating the column collection date not necessary any more"
   ]
  },
  {
   "cell_type": "code",
   "execution_count": null,
   "id": "b402ba1e",
   "metadata": {
    "scrolled": true
   },
   "outputs": [],
   "source": [
    "data2.head()"
   ]
  },
  {
   "cell_type": "code",
   "execution_count": null,
   "id": "d0735c49",
   "metadata": {},
   "outputs": [],
   "source": [
    "import seaborn as sns\n",
    "sns.boxplot(data2['Retail Max'])# look if there are out layers and remove them"
   ]
  },
  {
   "cell_type": "markdown",
   "id": "8bb442a5",
   "metadata": {},
   "source": [
    "# Removing out layers of Retail Max price 25%<values<75% out of this range"
   ]
  },
  {
   "cell_type": "code",
   "execution_count": null,
   "id": "7e043ca6",
   "metadata": {},
   "outputs": [],
   "source": [
    "#IQR\n",
    "Q1=np.percentile(data2['Retail Max'], 25,interpolation=\"midpoint\")\n",
    "Q3=np.percentile(data2['Retail Max'], 75,interpolation=\"midpoint\")\n",
    "IQR=Q3-Q1"
   ]
  },
  {
   "cell_type": "code",
   "execution_count": null,
   "id": "868c4221",
   "metadata": {},
   "outputs": [],
   "source": [
    "#Upper bound\n",
    "upper=np.where(data2['Retail Max']>=(Q3+1.5*IQR))\n",
    "#Lower bound\n",
    "lower=np.where(data2['Retail Max']<=(Q1-1.5*IQR))\n"
   ]
  },
  {
   "cell_type": "code",
   "execution_count": null,
   "id": "b7120805",
   "metadata": {},
   "outputs": [],
   "source": [
    "print(upper[0],lower[0])"
   ]
  },
  {
   "cell_type": "code",
   "execution_count": null,
   "id": "906d7bcb",
   "metadata": {},
   "outputs": [],
   "source": [
    "#...Removing the outliers...\n",
    "data2.drop(upper[0], inplace=True)\n",
    "data2.drop(lower[0], inplace=True)\n",
    "\n",
    "print(\"New Shape: \", data2.shape)"
   ]
  },
  {
   "cell_type": "code",
   "execution_count": null,
   "id": "8ad31d1c",
   "metadata": {
    "scrolled": true
   },
   "outputs": [],
   "source": [
    "sns.boxplot(data2['Retail Max'])"
   ]
  },
  {
   "cell_type": "markdown",
   "id": "205206c2",
   "metadata": {},
   "source": [
    "# Graphical Analysis"
   ]
  },
  {
   "cell_type": "code",
   "execution_count": null,
   "id": "dc454370",
   "metadata": {},
   "outputs": [],
   "source": [
    "# market place  vs retail max\n",
    "sns.catplot(y = \"Retail Max\", x = \"Market Place\", data = data2.sort_values(\"Retail Max\", ascending = False), kind=\"boxen\", height = 6, aspect = 3)\n",
    "plt.show()"
   ]
  },
  {
   "cell_type": "code",
   "execution_count": null,
   "id": "56bbed06",
   "metadata": {},
   "outputs": [],
   "source": [
    "# market place  vs retail max\n",
    "sns.catplot(y = \"Retail Max\", x = \"season\", data = data2.sort_values(\"Retail Max\", ascending = False), kind=\"boxen\", height = 6, aspect = 3)\n",
    "plt.show()"
   ]
  },
  {
   "cell_type": "code",
   "execution_count": null,
   "id": "29b404b2",
   "metadata": {},
   "outputs": [],
   "source": [
    "# market place  vs retail max\n",
    "sns.catplot(y = \"Retail Max\", x = \"month\", data = data2.sort_values(\"Retail Max\", ascending = False), kind=\"boxen\", height = 6, aspect = 3)\n",
    "plt.show()"
   ]
  },
  {
   "cell_type": "code",
   "execution_count": null,
   "id": "298612ed",
   "metadata": {
    "scrolled": false
   },
   "outputs": [],
   "source": [
    "# market place  vs retail max\n",
    "sns.catplot(y = \"Retail Max\", x = \"day\", data = data2.sort_values(\"Retail Max\", ascending = False), kind=\"boxen\", height = 6, aspect = 3)\n",
    "plt.show()"
   ]
  },
  {
   "cell_type": "code",
   "execution_count": null,
   "id": "dc933585",
   "metadata": {},
   "outputs": [],
   "source": [
    "# market place  vs retail max\n",
    "sns.catplot(y = \"Retail Max\", x = \"Volume\", data = data2.sort_values(\"Retail Max\", ascending = False), kind=\"boxen\", height = 6, aspect = 3)\n",
    "plt.show()"
   ]
  },
  {
   "cell_type": "code",
   "execution_count": null,
   "id": "680c638b",
   "metadata": {
    "scrolled": true
   },
   "outputs": [],
   "source": [
    "data2.head()"
   ]
  },
  {
   "cell_type": "code",
   "execution_count": null,
   "id": "a53a0369",
   "metadata": {
    "scrolled": true
   },
   "outputs": [],
   "source": [
    "data2.info()"
   ]
  },
  {
   "cell_type": "markdown",
   "id": "5f3ad6c6",
   "metadata": {},
   "source": [
    "# Changing the object data types in to numeric values using oneHotEncoding technique"
   ]
  },
  {
   "cell_type": "code",
   "execution_count": null,
   "id": "809989b8",
   "metadata": {},
   "outputs": [],
   "source": [
    "# As market place is Nominal Categorical data we will perform OneHotEncoding\n",
    "\n",
    "Market_Place = data2[[\"Market Place\"]]\n",
    "\n",
    "Market_Place = pd.get_dummies(Market_Place, drop_first= True)\n",
    "\n",
    "Market_Place.head()"
   ]
  },
  {
   "cell_type": "code",
   "execution_count": null,
   "id": "4386df93",
   "metadata": {},
   "outputs": [],
   "source": [
    "# As crop variety is Nominal Categorical data we will perform OneHotEncoding\n",
    "\n",
    "Crop_Variety = data2[[\"Crop Variety\"]]\n",
    "\n",
    "Crop_Variety = pd.get_dummies(Crop_Variety, drop_first= True)\n",
    "\n",
    "Crop_Variety.head()"
   ]
  },
  {
   "cell_type": "code",
   "execution_count": null,
   "id": "61eb7942",
   "metadata": {},
   "outputs": [],
   "source": [
    "# As volume is Nominal Categorical data we will perform OneHotEncoding\n",
    "\n",
    "Volume = data2[[\"Volume\"]]\n",
    "\n",
    "Volume = pd.get_dummies(Volume, drop_first= True)\n",
    "\n",
    "Volume.head()"
   ]
  },
  {
   "cell_type": "code",
   "execution_count": null,
   "id": "5cf2beca",
   "metadata": {},
   "outputs": [],
   "source": [
    "# As season is Nominal Categorical data we will perform OneHotEncoding\n",
    "\n",
    "season = data2[[\"season\"]]\n",
    "\n",
    "season = pd.get_dummies(season, drop_first= True)\n",
    "\n",
    "season.head(10)# the rest for the upsent == autumn"
   ]
  },
  {
   "cell_type": "code",
   "execution_count": null,
   "id": "64a7a4c4",
   "metadata": {
    "scrolled": true
   },
   "outputs": [],
   "source": [
    "# As month is Nominal Categorical data we will perform OneHotEncoding\n",
    "\n",
    "month = data2[[\"month\"]]\n",
    "\n",
    "month = pd.get_dummies(month, drop_first= True)\n",
    "\n",
    "month.head()# "
   ]
  },
  {
   "cell_type": "code",
   "execution_count": null,
   "id": "fd4f3550",
   "metadata": {},
   "outputs": [],
   "source": [
    "data0 = data2.copy()"
   ]
  },
  {
   "cell_type": "markdown",
   "id": "9ed83952",
   "metadata": {},
   "source": [
    "#concatenation of the columns to the data"
   ]
  },
  {
   "cell_type": "code",
   "execution_count": null,
   "id": "1a4bc9d6",
   "metadata": {
    "scrolled": true
   },
   "outputs": [],
   "source": [
    "data = pd.concat([data2, Market_Place, Crop_Variety, Volume, season, month ], axis = 1)"
   ]
  },
  {
   "cell_type": "code",
   "execution_count": null,
   "id": "5fccb7dd",
   "metadata": {
    "scrolled": true
   },
   "outputs": [],
   "source": [
    "data.head()"
   ]
  },
  {
   "cell_type": "code",
   "execution_count": null,
   "id": "c55d4004",
   "metadata": {},
   "outputs": [],
   "source": [
    "datas = data.copy()"
   ]
  },
  {
   "cell_type": "markdown",
   "id": "0e3f3631",
   "metadata": {},
   "source": [
    "# delating the oneHotEncoded columns"
   ]
  },
  {
   "cell_type": "code",
   "execution_count": null,
   "id": "b818603d",
   "metadata": {},
   "outputs": [],
   "source": [
    "data.drop([\"Market Place\", \"Crop Variety\", \"Volume\", \"season\", \"month\"], axis = 1, inplace = True)"
   ]
  },
  {
   "cell_type": "code",
   "execution_count": null,
   "id": "e8103b04",
   "metadata": {
    "scrolled": true
   },
   "outputs": [],
   "source": [
    "data.head()"
   ]
  },
  {
   "cell_type": "markdown",
   "id": "c8e3a868",
   "metadata": {},
   "source": [
    "# splitting the data in  to train and test data "
   ]
  },
  {
   "cell_type": "code",
   "execution_count": null,
   "id": "35b38ac0",
   "metadata": {},
   "outputs": [],
   "source": [
    "data.columns"
   ]
  },
  {
   "cell_type": "code",
   "execution_count": null,
   "id": "c06d853e",
   "metadata": {},
   "outputs": [],
   "source": [
    "features = data.loc[:,['day', 'Market Place_Bahir Dar kebele 04',\n",
    "       'Market Place_Bonga', 'Market Place_Dilla', 'Market Place_Hawassa ',\n",
    "       'Market Place_Shire-Endaselassie', 'Market Place_Sululta',\n",
    "       'Market Place_Woldia Gebeya', 'Volume_Sufficient', 'Volume_Under',\n",
    "       'season_Spring', 'season_Summer', 'season_Winter', 'month_August',\n",
    "       'month_December', 'month_February', 'month_January', 'month_July',\n",
    "       'month_June', 'month_March', 'month_May', 'month_November',\n",
    "       'month_October', 'month_September']]"
   ]
  },
  {
   "cell_type": "code",
   "execution_count": null,
   "id": "88caef8d",
   "metadata": {},
   "outputs": [],
   "source": [
    "features.head()"
   ]
  },
  {
   "cell_type": "code",
   "execution_count": null,
   "id": "0ba61603",
   "metadata": {},
   "outputs": [],
   "source": [
    "labels = data.loc[:,'Retail Max']"
   ]
  },
  {
   "cell_type": "code",
   "execution_count": null,
   "id": "9e4147e8",
   "metadata": {
    "scrolled": true
   },
   "outputs": [],
   "source": [
    "labels.head()"
   ]
  },
  {
   "cell_type": "code",
   "execution_count": null,
   "id": "107d2654",
   "metadata": {
    "scrolled": false
   },
   "outputs": [],
   "source": [
    "#\n",
    "plt.figure(figsize = (18,18))\n",
    "sns.heatmap(data.corr(), annot = True, cmap = \"RdYlGn\")\n",
    "\n",
    "plt.show()"
   ]
  },
  {
   "cell_type": "code",
   "execution_count": null,
   "id": "051e4366",
   "metadata": {},
   "outputs": [],
   "source": [
    "!pip install scikit-learn"
   ]
  },
  {
   "cell_type": "code",
   "execution_count": null,
   "id": "976d240e",
   "metadata": {},
   "outputs": [],
   "source": [
    "from sklearn.model_selection import train_test_split"
   ]
  },
  {
   "cell_type": "code",
   "execution_count": null,
   "id": "4f0fd91c",
   "metadata": {},
   "outputs": [],
   "source": [
    "Xtrain, Xtest, Ytrain, Ytest = train_test_split(features, labels, test_size=0.2, random_state=2)"
   ]
  },
  {
   "cell_type": "code",
   "execution_count": null,
   "id": "f7225000",
   "metadata": {},
   "outputs": [],
   "source": [
    "len(Xtrain)# 80 percent of 934 data == 747 and 20 percent 187"
   ]
  },
  {
   "cell_type": "code",
   "execution_count": null,
   "id": "55f3f881",
   "metadata": {},
   "outputs": [],
   "source": [
    "len(Ytrain)"
   ]
  },
  {
   "cell_type": "code",
   "execution_count": null,
   "id": "2c6bf68e",
   "metadata": {},
   "outputs": [],
   "source": [
    "len(Xtest)"
   ]
  },
  {
   "cell_type": "code",
   "execution_count": null,
   "id": "6ab0030d",
   "metadata": {},
   "outputs": [],
   "source": [
    "len(Ytest)"
   ]
  },
  {
   "cell_type": "code",
   "execution_count": null,
   "id": "77afeaae",
   "metadata": {},
   "outputs": [],
   "source": [
    "from sklearn.linear_model import LinearRegression"
   ]
  },
  {
   "cell_type": "code",
   "execution_count": null,
   "id": "6cc91c1f",
   "metadata": {},
   "outputs": [],
   "source": [
    "model = LinearRegression()"
   ]
  },
  {
   "cell_type": "code",
   "execution_count": null,
   "id": "a8b25e09",
   "metadata": {},
   "outputs": [],
   "source": [
    "model.fit(Xtrain, Ytrain)"
   ]
  },
  {
   "cell_type": "code",
   "execution_count": null,
   "id": "d2ad7504",
   "metadata": {},
   "outputs": [],
   "source": [
    "ypred = model.predict(Xtest)\n",
    "ypred"
   ]
  },
  {
   "cell_type": "code",
   "execution_count": null,
   "id": "c634b957",
   "metadata": {},
   "outputs": [],
   "source": [
    "Ytest"
   ]
  },
  {
   "cell_type": "code",
   "execution_count": null,
   "id": "c4315509",
   "metadata": {},
   "outputs": [],
   "source": [
    "model.score(Xtrain,Ytrain)"
   ]
  },
  {
   "cell_type": "code",
   "execution_count": null,
   "id": "34d4e4b6",
   "metadata": {},
   "outputs": [],
   "source": [
    "model.score(Xtest,Ytest)"
   ]
  },
  {
   "cell_type": "code",
   "execution_count": null,
   "id": "2ab6f25b",
   "metadata": {},
   "outputs": [],
   "source": [
    "sns.distplot(Ytest-ypred)\n",
    "plt.show()"
   ]
  },
  {
   "cell_type": "code",
   "execution_count": null,
   "id": "93db61a3",
   "metadata": {},
   "outputs": [],
   "source": [
    "metrics.r2_score(Ytest,ypred)"
   ]
  },
  {
   "cell_type": "code",
   "execution_count": null,
   "id": "974339e6",
   "metadata": {},
   "outputs": [],
   "source": []
  },
  {
   "cell_type": "code",
   "execution_count": null,
   "id": "c15fa5de",
   "metadata": {},
   "outputs": [],
   "source": []
  }
 ],
 "metadata": {
  "kernelspec": {
   "display_name": "Python 3 (ipykernel)",
   "language": "python",
   "name": "python3"
  },
  "language_info": {
   "codemirror_mode": {
    "name": "ipython",
    "version": 3
   },
   "file_extension": ".py",
   "mimetype": "text/x-python",
   "name": "python",
   "nbconvert_exporter": "python",
   "pygments_lexer": "ipython3",
   "version": "3.9.12"
  }
 },
 "nbformat": 4,
 "nbformat_minor": 5
}
